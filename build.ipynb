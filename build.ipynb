{
 "cells": [
  {
   "cell_type": "code",
   "execution_count": 11,
   "id": "421c2391-638a-4287-8eae-4d772a2d78c3",
   "metadata": {},
   "outputs": [],
   "source": [
    "import json\n",
    "from PIL import Image, ImageOps\n",
    "from pathlib import Path\n",
    "import glob\n",
    "from tqdm import tqdm\n",
    "import numpy as np\n",
    "import imageio.v3 as iio\n",
    "import shutil"
   ]
  },
  {
   "cell_type": "code",
   "execution_count": 12,
   "id": "a09ec480-3fa5-40e7-8502-a50a61d9bc3a",
   "metadata": {},
   "outputs": [],
   "source": [
    "source_base = Path(r\"C:\\Users\\mauri\\Documents\\Professional\\gol-1\\assets\")\n",
    "dest_base = Path(\"static/images/gol-1\")\n",
    "app_data_path = f'{dest_base}/app.json'\n",
    "thumb_scale = .75"
   ]
  },
  {
   "cell_type": "code",
   "execution_count": 13,
   "id": "f38f05c5-1f51-4926-a47d-bb9ecd17f656",
   "metadata": {},
   "outputs": [],
   "source": [
    "def save_thumb(source_image_path, dest_thumb_path):\n",
    "    image = Image.open(source_image_path)\n",
    "    new_size = np.array(np.array([image.width, image.height]) * thumb_scale, dtype=np.int32)\n",
    "    image = image.resize(tuple(new_size))\n",
    "    image.save(dest_thumb_path)"
   ]
  },
  {
   "cell_type": "code",
   "execution_count": 14,
   "id": "0eaf85b3-28f5-4dbb-b906-cf33bcaa1453",
   "metadata": {},
   "outputs": [],
   "source": [
    "def save_mp4(source_video_path, dest_video_path):\n",
    "    shutil.copy(source_video_path, dest_video_path)"
   ]
  },
  {
   "cell_type": "code",
   "execution_count": 15,
   "id": "6d3a277e-11b9-4461-981c-4947280892fe",
   "metadata": {},
   "outputs": [],
   "source": [
    "def enumerate_variants(variants):\n",
    "    if len(variants) == 0:\n",
    "        return [[]]\n",
    "    head, *rest = variants\n",
    "    children = enumerate_variants(rest)\n",
    "    results = []\n",
    "    for value in head['values']:\n",
    "        for child in children:\n",
    "            results.append([dict(name=head['name'], value=value)] + child)\n",
    "    return results"
   ]
  },
  {
   "cell_type": "code",
   "execution_count": 16,
   "id": "550e78aa-4d4a-4ec4-ac79-eb4095fdfc73",
   "metadata": {},
   "outputs": [],
   "source": [
    "variants = [\n",
    "    dict(name='style', values=['monolith', 'portal']),\n",
    "    dict(name='color', values=['light', 'dark']),\n",
    "]\n",
    "\n",
    "keys = []\n",
    "for params in enumerate_variants(variants):\n",
    "    key = '-'.join([p['value'] for p in params])\n",
    "    keys.append(key)\n",
    "\n",
    "app_meta = dict(\n",
    "    variants=variants,\n",
    ")\n",
    "json.dump(app_meta, open(app_data_path, 'w'))"
   ]
  },
  {
   "cell_type": "code",
   "execution_count": 17,
   "id": "42e72db2-3807-4eea-815b-326190b2245d",
   "metadata": {},
   "outputs": [
    {
     "name": "stderr",
     "output_type": "stream",
     "text": [
      "100%|████████████████████████████████████████████████████████████████████████████████████| 4/4 [00:00<00:00, 12.51it/s]\n"
     ]
    }
   ],
   "source": [
    "for key in tqdm(keys):\n",
    "    source_image_path = Path(f'{source_base}/{key}.png')\n",
    "    source_video_path = Path(f'{source_base}/{key}.mp4')\n",
    "    dest_mp4_path = Path(f'{dest_base}/{key}.mp4')\n",
    "    thumb_path = Path(f'static/images/gol-1/{key}-thumb.png')\n",
    "    thumb_gif_path = Path(f'static/images/gol-1/{key}-thumb.gif')\n",
    "    metadata_path = Path(f'{source_base}/{key}.json')\n",
    "    meta = json.load(open(metadata_path))\n",
    "    #save_mp4(source_video_path, dest_mp4_path)\n",
    "    save_thumb(source_image_path, thumb_path)"
   ]
  },
  {
   "cell_type": "code",
   "execution_count": null,
   "id": "0823c989-bd43-4b69-bd35-ae24dd9f9677",
   "metadata": {},
   "outputs": [],
   "source": []
  }
 ],
 "metadata": {
  "kernelspec": {
   "display_name": "Python 3 (ipykernel)",
   "language": "python",
   "name": "python3"
  },
  "language_info": {
   "codemirror_mode": {
    "name": "ipython",
    "version": 3
   },
   "file_extension": ".py",
   "mimetype": "text/x-python",
   "name": "python",
   "nbconvert_exporter": "python",
   "pygments_lexer": "ipython3",
   "version": "3.12.8"
  }
 },
 "nbformat": 4,
 "nbformat_minor": 5
}
